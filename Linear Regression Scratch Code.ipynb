{
 "cells": [
  {
   "cell_type": "code",
   "execution_count": 1,
   "metadata": {},
   "outputs": [],
   "source": [
    "#importing the required libraries\n",
    "import numpy as np\n",
    "import pandas as pd\n",
    "import matplotlib.pyplot as plt"
   ]
  },
  {
   "cell_type": "code",
   "execution_count": 2,
   "metadata": {},
   "outputs": [],
   "source": [
    "#import the data/csv file\n",
    "data = pd.read_csv('/home/srija/Downloads/Compressed/Datasets/Salary_Data.csv')\n"
   ]
  },
  {
   "cell_type": "code",
   "execution_count": 3,
   "metadata": {},
   "outputs": [
    {
     "data": {
      "text/html": [
       "<div>\n",
       "<style scoped>\n",
       "    .dataframe tbody tr th:only-of-type {\n",
       "        vertical-align: middle;\n",
       "    }\n",
       "\n",
       "    .dataframe tbody tr th {\n",
       "        vertical-align: top;\n",
       "    }\n",
       "\n",
       "    .dataframe thead th {\n",
       "        text-align: right;\n",
       "    }\n",
       "</style>\n",
       "<table border=\"1\" class=\"dataframe\">\n",
       "  <thead>\n",
       "    <tr style=\"text-align: right;\">\n",
       "      <th></th>\n",
       "      <th>YearsExperience</th>\n",
       "      <th>Salary</th>\n",
       "    </tr>\n",
       "  </thead>\n",
       "  <tbody>\n",
       "    <tr>\n",
       "      <th>0</th>\n",
       "      <td>1.1</td>\n",
       "      <td>39343.0</td>\n",
       "    </tr>\n",
       "    <tr>\n",
       "      <th>1</th>\n",
       "      <td>1.3</td>\n",
       "      <td>46205.0</td>\n",
       "    </tr>\n",
       "    <tr>\n",
       "      <th>2</th>\n",
       "      <td>1.5</td>\n",
       "      <td>37731.0</td>\n",
       "    </tr>\n",
       "    <tr>\n",
       "      <th>3</th>\n",
       "      <td>2.0</td>\n",
       "      <td>43525.0</td>\n",
       "    </tr>\n",
       "    <tr>\n",
       "      <th>4</th>\n",
       "      <td>2.2</td>\n",
       "      <td>39891.0</td>\n",
       "    </tr>\n",
       "  </tbody>\n",
       "</table>\n",
       "</div>"
      ],
      "text/plain": [
       "   YearsExperience   Salary\n",
       "0              1.1  39343.0\n",
       "1              1.3  46205.0\n",
       "2              1.5  37731.0\n",
       "3              2.0  43525.0\n",
       "4              2.2  39891.0"
      ]
     },
     "execution_count": 3,
     "metadata": {},
     "output_type": "execute_result"
    }
   ],
   "source": [
    "#intial 5 rows of the csv file\n",
    "data.head()"
   ]
  },
  {
   "cell_type": "code",
   "execution_count": 4,
   "metadata": {},
   "outputs": [],
   "source": [
    "#Extracting the columns\n",
    "x=data.iloc[:,0].values #data['YearsExperience'].values\n",
    "y=data.iloc[:,1].values #data['Salary'].values"
   ]
  },
  {
   "cell_type": "code",
   "execution_count": 5,
   "metadata": {},
   "outputs": [
    {
     "data": {
      "image/png": "[encoded data removed]",
      "text/plain": [
       "<Figure size 432x288 with 1 Axes>"
      ]
     },
     "metadata": {
      "needs_background": "light"
     },
     "output_type": "display_data"
    }
   ],
   "source": [
    "#plot the dataset\n",
    "plt.scatter(x,y,color='Blue',label='ActualPoints',marker='*')\n",
    "plt.legend()\n",
    "plt.title('Salary Prediction')\n",
    "plt.xlabel('Years of Experience')\n",
    "plt.ylabel('Salary')\n",
    "plt.show()"
   ]
  },
  {
   "cell_type": "code",
   "execution_count": 6,
   "metadata": {},
   "outputs": [],
   "source": [
    "##Splitting the data into training and testing\n",
    "from sklearn.model_selection import train_test_split\n",
    "xtrain,xtest,ytrain,ytest = train_test_split(x,y,test_size = 0.3,random_state = 0)\n"
   ]
  },
  {
   "cell_type": "code",
   "execution_count": 7,
   "metadata": {},
   "outputs": [],
   "source": [
    "#Reshaping the 1D array as 2D array\n",
    "xtrain = xtrain.reshape(len(xtrain),1)\n",
    "xtest = xtest.reshape(len(xtest),1)\n",
    "ytrain = ytrain.reshape(len(ytrain),1)\n",
    "ytest = ytest.reshape(len(ytest),1)\n"
   ]
  },
  {
   "cell_type": "code",
   "execution_count": 8,
   "metadata": {},
   "outputs": [],
   "source": [
    "#Hyperparameters\n",
    "alpha=0.01\n",
    "iterations=1500\n",
    "theta=np.zeros([2,1])"
   ]
  },
  {
   "cell_type": "code",
   "execution_count": 9,
   "metadata": {},
   "outputs": [],
   "source": [
    "#Defining a shaping function for matrix Multiplication of x and theta\n",
    "def shaping(x):\n",
    "    ones = np.ones((len(x),1))\n",
    "    x=np.hstack((ones,x))\n",
    "    return x"
   ]
  },
  {
   "cell_type": "code",
   "execution_count": 10,
   "metadata": {},
   "outputs": [],
   "source": [
    "#Defining the cost function\n",
    "## cost function = (1/2m) * sigma(1->m) (h(x)-y)**2\n",
    "## h(x) = theta0 + theta1(x)\n",
    "def ComputeCost(x,y,theta):\n",
    "    x = shaping(x)\n",
    "    Error=(x @theta) -y    \n",
    "    temp=np.sum(np.power(Error,2))\n",
    "    return temp/(2*len(x))           ##returns average of square error \n"
   ]
  },
  {
   "cell_type": "code",
   "execution_count": 11,
   "metadata": {},
   "outputs": [
    {
     "name": "stdout",
     "output_type": "stream",
     "text": [
      "2930252301.6190476\n"
     ]
    }
   ],
   "source": [
    "train_cost_bef_optimisation=ComputeCost(xtrain,ytrain,theta) ## function call\n",
    "print(train_cost_bef_optimisation)"
   ]
  },
  {
   "cell_type": "code",
   "execution_count": 12,
   "metadata": {},
   "outputs": [],
   "source": [
    "#Defining the Gradient descent to find theta values that minimizes the cost function\n",
    "## theta = theta - alpha * derivative(cost function)\n",
    "## Derivative(Cost Function) = (1/m) * sigma(1->m) (h(x)-y)*x\n",
    "## theta = theta - (alpha/m)* sigma(1->m) (h(x)-y)*x\n",
    "def GradientDescent(x,y,alpha,theta,iterations):\n",
    "    cost = []\n",
    "    iters = []\n",
    "    for i in range(iterations):\n",
    "        x = shaping(x)\n",
    "        Error=(x @ theta)-y\n",
    "        temp=(x.T @ Error)\n",
    "        theta=theta-(alpha/len(x))*temp\n",
    "        x = np.delete(x,0,axis = 1)\n",
    "        cost.append(ComputeCost(x,y,theta))\n",
    "        iters.append(i)       \n",
    "    return theta,cost,iters ## returns updated parameters"
   ]
  },
  {
   "cell_type": "code",
   "execution_count": 13,
   "metadata": {},
   "outputs": [
    {
     "name": "stdout",
     "output_type": "stream",
     "text": [
      "[[25730.74830618]\n",
      " [ 9529.5986595 ]]\n"
     ]
    }
   ],
   "source": [
    "weights,cost,iters=GradientDescent(xtrain,ytrain,alpha,theta,iterations) ## function call\n",
    "print(weights) ## prints optimised parameter\n"
   ]
  },
  {
   "cell_type": "code",
   "execution_count": 14,
   "metadata": {},
   "outputs": [
    {
     "name": "stdout",
     "output_type": "stream",
     "text": [
      "17676222.708973017\n"
     ]
    }
   ],
   "source": [
    "# print error with optimised parameters\n",
    "train_cost_aft_optimisation=ComputeCost(xtrain,ytrain,weights)\n",
    "print(train_cost_aft_optimisation)"
   ]
  },
  {
   "cell_type": "code",
   "execution_count": 15,
   "metadata": {},
   "outputs": [
    {
     "data": {
      "image/png": "[encoded data removed]",
      "text/plain": [
       "<Figure size 432x288 with 1 Axes>"
      ]
     },
     "metadata": {
      "needs_background": "light"
     },
     "output_type": "display_data"
    }
   ],
   "source": [
    "#plotting Cost Vs Iterations\n",
    "plt.title('Cost Vs Iterations')\n",
    "plt.xlabel('Iterations')\n",
    "plt.ylabel('Cost function')\n",
    "plt.plot(iters,cost,color='Red')\n",
    "plt.show()\n",
    "\n"
   ]
  },
  {
   "cell_type": "code",
   "execution_count": 16,
   "metadata": {},
   "outputs": [
    {
     "data": {
      "image/png": "[encoded data removed]",
      "text/plain": [
       "<Figure size 432x288 with 1 Axes>"
      ]
     },
     "metadata": {
      "needs_background": "light"
     },
     "output_type": "display_data"
    }
   ],
   "source": [
    "##plotting line of best fit\n",
    "plt.scatter(xtrain,ytrain,color='Blue',label='ActualPoints',marker='*') ##plot dataset\n",
    "plt.title('Salary Prediction')\n",
    "plt.xlabel('Years of Experience')\n",
    "plt.ylabel('Salary')\n",
    "xtrain = shaping(xtrain)\n",
    "plt.plot(xtrain[:,1],np.dot(xtrain,weights),color = 'Red') ## plot predictions as line of best fit\n",
    "plt.show()"
   ]
  },
  {
   "cell_type": "code",
   "execution_count": 17,
   "metadata": {},
   "outputs": [
    {
     "data": {
      "image/png": "[encoded data removed]",
      "text/plain": [
       "<Figure size 432x288 with 1 Axes>"
      ]
     },
     "metadata": {
      "needs_background": "light"
     },
     "output_type": "display_data"
    }
   ],
   "source": [
    "##plotting line of best fit\n",
    "plt.scatter(xtest,ytest,color='Blue',label='ActualPoints',marker='*') ##plot dataset\n",
    "plt.title('Salary Prediction')\n",
    "plt.xlabel('Years of Experience')\n",
    "plt.ylabel('Salary')\n",
    "xtest = shaping(xtest)\n",
    "plt.plot(xtest[:,1],np.dot(xtest,weights),color = 'Red') ## plot predictions as line of best fit\n",
    "plt.show()"
   ]
  },
  {
   "cell_type": "code",
   "execution_count": 18,
   "metadata": {},
   "outputs": [],
   "source": [
    "## predicting y values\n",
    "def salary_predict():\n",
    "    x=float(input(\"Enter the years of experience:\"))\n",
    "    y_pred=weights[0,:]+x*weights[1,:]\n",
    "    return \"Salary of employee :\"+str(y_pred)"
   ]
  },
  {
   "cell_type": "code",
   "execution_count": 20,
   "metadata": {},
   "outputs": [
    {
     "data": {
      "text/plain": [
       "array([[ 37731.],\n",
       "       [122391.],\n",
       "       [ 57081.],\n",
       "       [ 63218.],\n",
       "       [116969.],\n",
       "       [109431.],\n",
       "       [112635.],\n",
       "       [ 55794.],\n",
       "       [ 83088.]])"
      ]
     },
     "execution_count": 20,
     "metadata": {},
     "output_type": "execute_result"
    }
   ],
   "source": [
    "ytest"
   ]
  },
  {
   "cell_type": "code",
   "execution_count": 21,
   "metadata": {},
   "outputs": [
    {
     "data": {
      "text/plain": [
       "array([[ 40025.14629544],\n",
       "       [123885.61449907],\n",
       "       [ 64802.10281015],\n",
       "       [ 62896.18307825],\n",
       "       [116261.93557147],\n",
       "       [108638.25664387],\n",
       "       [117214.89543742],\n",
       "       [ 63849.1429442 ],\n",
       "       [ 76237.62120155]])"
      ]
     },
     "execution_count": 21,
     "metadata": {},
     "output_type": "execute_result"
    }
   ],
   "source": [
    "ypred = xtest @ weights\n",
    "ypred"
   ]
  },
  {
   "cell_type": "code",
   "execution_count": 22,
   "metadata": {},
   "outputs": [
    {
     "name": "stdout",
     "output_type": "stream",
     "text": [
      "Enter the years of experience:30\n"
     ]
    },
    {
     "data": {
      "text/plain": [
       "'Salary of employee :[311618.70809129]'"
      ]
     },
     "execution_count": 22,
     "metadata": {},
     "output_type": "execute_result"
    }
   ],
   "source": [
    "salary_predict()"
   ]
  },
  {
   "cell_type": "code",
   "execution_count": null,
   "metadata": {},
   "outputs": [],
   "source": []
  }
 ],
 "metadata": {
  "kernelspec": {
   "display_name": "Python 3",
   "language": "python",
   "name": "python3"
  },
  "language_info": {
   "codemirror_mode": {
    "name": "ipython",
    "version": 3
   },
   "file_extension": ".py",
   "mimetype": "text/x-python",
   "name": "python",
   "nbconvert_exporter": "python",
   "pygments_lexer": "ipython3",
   "version": "3.8.3"
  }
 },
 "nbformat": 4,
 "nbformat_minor": 4
}
